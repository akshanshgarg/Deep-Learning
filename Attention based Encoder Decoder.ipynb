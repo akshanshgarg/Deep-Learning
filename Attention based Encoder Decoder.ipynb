{
 "cells": [
  {
   "cell_type": "code",
   "execution_count": 1,
   "id": "5c367e53",
   "metadata": {},
   "outputs": [],
   "source": [
    "import numpy as np\n",
    "import tensorflow as tf\n",
    "from tensorflow.keras.layers import LSTM, Input, Embedding, Dense, Attention\n",
    "from tensorflow.keras.models import Model\n",
    "from tensorflow.keras.utils import pad_sequences\n",
    "from sklearn.model_selection import train_test_split"
   ]
  },
  {
   "cell_type": "code",
   "execution_count": 2,
   "id": "7e5fbfb9",
   "metadata": {},
   "outputs": [],
   "source": [
    "# Example data\n",
    "english_sentences = ['hello', 'how are you', 'good morning']\n",
    "french_sentences = ['bonjour', 'comment ça va', 'bonjour']\n",
    "\n"
   ]
  },
  {
   "cell_type": "code",
   "execution_count": 13,
   "id": "2fb07b35",
   "metadata": {},
   "outputs": [],
   "source": [
    "def tokenize(sentences):\n",
    "    tokenizer  = tf.keras.preprocessing.text.Tokenizer()\n",
    "    tokenizer.fit_on_texts(sentences)\n",
    "    return tokenizer, tokenizer.texts_to_sequences(sentences)"
   ]
  },
  {
   "cell_type": "code",
   "execution_count": 14,
   "id": "d85531c3",
   "metadata": {},
   "outputs": [],
   "source": [
    "eng_tokenizer, eng_sequences = tokenize(english_sentences)"
   ]
  },
  {
   "cell_type": "code",
   "execution_count": 15,
   "id": "8ece44c7",
   "metadata": {},
   "outputs": [
    {
     "data": {
      "text/plain": [
       "<keras.src.legacy.preprocessing.text.Tokenizer at 0x20c50ba5db0>"
      ]
     },
     "execution_count": 15,
     "metadata": {},
     "output_type": "execute_result"
    }
   ],
   "source": [
    "eng_tokenizer"
   ]
  },
  {
   "cell_type": "code",
   "execution_count": 16,
   "id": "190ce898",
   "metadata": {},
   "outputs": [
    {
     "data": {
      "text/plain": [
       "[[1], [2, 3, 4], [5, 6]]"
      ]
     },
     "execution_count": 16,
     "metadata": {},
     "output_type": "execute_result"
    }
   ],
   "source": [
    "eng_sequences"
   ]
  },
  {
   "cell_type": "code",
   "execution_count": 17,
   "id": "aeef6703",
   "metadata": {},
   "outputs": [],
   "source": [
    "fr_tokenizer, fr_sequences = tokenize(french_sentences)"
   ]
  },
  {
   "cell_type": "code",
   "execution_count": 18,
   "id": "c95a6f2a",
   "metadata": {},
   "outputs": [
    {
     "data": {
      "text/plain": [
       "[[1], [2, 3, 4], [1]]"
      ]
     },
     "execution_count": 18,
     "metadata": {},
     "output_type": "execute_result"
    }
   ],
   "source": [
    "fr_sequences"
   ]
  },
  {
   "cell_type": "code",
   "execution_count": 21,
   "id": "fd667d2a",
   "metadata": {},
   "outputs": [
    {
     "data": {
      "text/plain": [
       "3"
      ]
     },
     "execution_count": 21,
     "metadata": {},
     "output_type": "execute_result"
    }
   ],
   "source": [
    "max_eng_len = max(len(seq) for seq in eng_sequences)\n",
    "max_eng_len"
   ]
  },
  {
   "cell_type": "code",
   "execution_count": 23,
   "id": "2e0bd806",
   "metadata": {},
   "outputs": [
    {
     "data": {
      "text/plain": [
       "3"
      ]
     },
     "execution_count": 23,
     "metadata": {},
     "output_type": "execute_result"
    }
   ],
   "source": [
    "max_fr_len = max(len(seq) for seq in fr_sequences)\n",
    "max_fr_len"
   ]
  },
  {
   "cell_type": "code",
   "execution_count": 33,
   "id": "8358cae7",
   "metadata": {},
   "outputs": [],
   "source": [
    "# Paddding\n",
    "eng_sequences = pad_sequences(eng_sequences, maxlen=max_eng_len, padding='post')\n",
    "fr_sequences = pad_sequences(fr_sequences, maxlen=max_fr_len, padding='post')"
   ]
  },
  {
   "cell_type": "code",
   "execution_count": 34,
   "id": "d72d70f9",
   "metadata": {},
   "outputs": [
    {
     "data": {
      "text/plain": [
       "array([[1, 0, 0],\n",
       "       [2, 3, 4],\n",
       "       [5, 6, 0]])"
      ]
     },
     "execution_count": 34,
     "metadata": {},
     "output_type": "execute_result"
    }
   ],
   "source": [
    "eng_sequences"
   ]
  },
  {
   "cell_type": "code",
   "execution_count": 35,
   "id": "89c82d1d",
   "metadata": {},
   "outputs": [
    {
     "data": {
      "text/plain": [
       "array([[1, 0, 0],\n",
       "       [2, 3, 4],\n",
       "       [1, 0, 0]])"
      ]
     },
     "execution_count": 35,
     "metadata": {},
     "output_type": "execute_result"
    }
   ],
   "source": [
    "fr_sequences"
   ]
  },
  {
   "cell_type": "code",
   "execution_count": 37,
   "id": "45dad643",
   "metadata": {},
   "outputs": [],
   "source": [
    "# Vocabulary sizes\n",
    "eng_vocab_size = len(eng_tokenizer.word_index)+1\n",
    "fr_vocab_size = len(fr_tokenizer.word_index)+1"
   ]
  },
  {
   "cell_type": "code",
   "execution_count": 38,
   "id": "dd2e40d1",
   "metadata": {},
   "outputs": [
    {
     "data": {
      "text/plain": [
       "{'hello': 1, 'how': 2, 'are': 3, 'you': 4, 'good': 5, 'morning': 6}"
      ]
     },
     "execution_count": 38,
     "metadata": {},
     "output_type": "execute_result"
    }
   ],
   "source": [
    "eng_tokenizer.word_index"
   ]
  },
  {
   "cell_type": "markdown",
   "id": "36eaf2b4",
   "metadata": {},
   "source": [
    "### Build Encoder-Decoder Model with Attention"
   ]
  },
  {
   "cell_type": "code",
   "execution_count": null,
   "id": "921b9e6f",
   "metadata": {},
   "outputs": [],
   "source": [
    "# Hyperparameters\n",
    "embedding_dim = 64\n",
    "hidden_dim = 128\n",
    "\n",
    "# Encoder\n",
    "encoder_inputs = Input(shape=(max_eng_len,))\n",
    "encoder_embedding = Embedding(input_dim=eng_vocab_size, output_dim=embedding_dim)(encoder_inputs)\n",
    "encoder_lstm = LSTM(hidden_state, return_sequences=True, return_sate=True)\n",
    "encoder_outputs, state_h, state_c = encoder_lstm(encoder_embedding)\n",
    "encoder_states = [state_h, state_c]\n",
    "\n",
    "\n",
    "# Decoder\n",
    "decoder_inputs = Input(shape=(max_fr_len,))\n",
    "decoder_embedding = Embedding(input_dim=fr_vocab_size, output_dim=embedding_dim)(decoder_inputs)\n",
    "decoder_lstm = LSTM(units=hidden_dim, return_sequences=True, return_state=True )\n",
    "decoder_outputs, _, _ = decoder_lstm(decoder_embedding, initial_state=encoder_states)\n",
    "\n",
    "# Attention layer\n",
    "attention=Attention()\n",
    "context_vector = attention([decoder_outputs, encoder_outputs])\n",
    "\n"
   ]
  }
 ],
 "metadata": {
  "kernelspec": {
   "display_name": "Python 3 (ipykernel)",
   "language": "python",
   "name": "python3"
  },
  "language_info": {
   "codemirror_mode": {
    "name": "ipython",
    "version": 3
   },
   "file_extension": ".py",
   "mimetype": "text/x-python",
   "name": "python",
   "nbconvert_exporter": "python",
   "pygments_lexer": "ipython3",
   "version": "3.10.9"
  }
 },
 "nbformat": 4,
 "nbformat_minor": 5
}
